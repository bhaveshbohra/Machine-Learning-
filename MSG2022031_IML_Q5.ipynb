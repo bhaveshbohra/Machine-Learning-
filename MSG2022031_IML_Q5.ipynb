{
  "nbformat": 4,
  "nbformat_minor": 0,
  "metadata": {
    "colab": {
      "provenance": []
    },
    "kernelspec": {
      "name": "python3",
      "display_name": "Python 3"
    },
    "language_info": {
      "name": "python"
    }
  },
  "cells": [
    {
      "cell_type": "code",
      "execution_count": null,
      "metadata": {
        "id": "VSz3P939P3wi"
      },
      "outputs": [],
      "source": [
        "import numpy as np\n",
        "import pandas as pd\n",
        "import matplotlib.pyplot as plt\n",
        "import matplotlib.colors as mcolors\n",
        "import random\n",
        "import math\n",
        "import time\n",
        "from sklearn.model_selection import RandomizedSearchCV, train_test_split\n",
        "from sklearn.svm import SVR\n",
        "from sklearn.metrics import mean_squared_error, mean_absolute_error\n",
        "import datetime\n",
        "import operator\n",
        "plt.style.use('seaborn')\n",
        "%matplotlib inline"
      ]
    },
    {
      "cell_type": "code",
      "source": [
        "confirmed_cases = pd.read_csv('D:/Corona_virus analysis/time_series_covid-19_confirmed.csv')\n"
      ],
      "metadata": {
        "id": "Dx_pJACIQZy5"
      },
      "execution_count": null,
      "outputs": []
    },
    {
      "cell_type": "code",
      "source": [
        "deaths_reported = pd.read_csv('D:/Corona_virus analysis/time_series_covid-19_deaths.csv')"
      ],
      "metadata": {
        "id": "vv6fb-tvQa2u"
      },
      "execution_count": null,
      "outputs": []
    },
    {
      "cell_type": "code",
      "source": [
        "recovered_cases = pd.read_csv('D:/Corona_virus analysis/time_series_covid-19_recovered.csv')\n"
      ],
      "metadata": {
        "id": "3ruXviqcQlbc"
      },
      "execution_count": null,
      "outputs": []
    },
    {
      "cell_type": "code",
      "source": [
        "confirmed_cases.head()"
      ],
      "metadata": {
        "id": "iZXPNIM6QmdU"
      },
      "execution_count": null,
      "outputs": []
    },
    {
      "cell_type": "code",
      "source": [
        "deaths_reported.head()"
      ],
      "metadata": {
        "id": "uv7YgjzfQsBY"
      },
      "execution_count": null,
      "outputs": []
    },
    {
      "cell_type": "code",
      "source": [
        "recovered_cases.head()"
      ],
      "metadata": {
        "id": "1PWlHwWbQ0BQ"
      },
      "execution_count": null,
      "outputs": []
    },
    {
      "cell_type": "code",
      "source": [
        "cols = confirmed_cases.keys()\n",
        "cols"
      ],
      "metadata": {
        "id": "TzN3za7eQ7mZ"
      },
      "execution_count": null,
      "outputs": []
    },
    {
      "cell_type": "code",
      "source": [
        "confirmed = confirmed_cases.loc[:, cols[4]:cols[-1]]"
      ],
      "metadata": {
        "id": "Z1pCO_-MRBac"
      },
      "execution_count": null,
      "outputs": []
    },
    {
      "cell_type": "code",
      "source": [
        "deaths = deaths_reported.loc[:, cols[4]:cols[-1]]\n"
      ],
      "metadata": {
        "id": "z3FmUs_nRGcV"
      },
      "execution_count": null,
      "outputs": []
    },
    {
      "cell_type": "code",
      "source": [
        "recoveries = recovered_cases.loc[:, cols[4]:cols[-1]]\n"
      ],
      "metadata": {
        "id": "310gdbEVRIe1"
      },
      "execution_count": null,
      "outputs": []
    },
    {
      "cell_type": "code",
      "source": [
        "confirmed.head()"
      ],
      "metadata": {
        "id": "cAbQCTWNRNxc"
      },
      "execution_count": null,
      "outputs": []
    },
    {
      "cell_type": "code",
      "source": [
        "dates = confirmed.keys()\n",
        "world_cases = []\n",
        "total_deaths = []\n",
        "mortality_rate = []\n",
        "total_recovered = []\n",
        "\n",
        "for i in dates:\n",
        "    confirmed_sum = confirmed[i].sum()\n",
        "    death_sum = deaths[i].sum()\n",
        "    recovered_sum = recoveries[i].sum()\n",
        "    world_cases.append(confirmed_sum)\n",
        "    total_deaths.append(death_sum)\n",
        "    mortality_rate.append(death_sum/confirmed_sum)\n",
        "    total_recovered.append(recovered_sum)"
      ],
      "metadata": {
        "id": "3frWxF64RYhJ"
      },
      "execution_count": null,
      "outputs": []
    },
    {
      "cell_type": "code",
      "source": [
        "confirmed_sum"
      ],
      "metadata": {
        "id": "Y4mDyZ8zRaZk"
      },
      "execution_count": null,
      "outputs": []
    },
    {
      "cell_type": "code",
      "source": [
        "death_sum"
      ],
      "metadata": {
        "id": "jMkjGNUVRdZW"
      },
      "execution_count": null,
      "outputs": []
    },
    {
      "cell_type": "code",
      "source": [
        "recovered_sum"
      ],
      "metadata": {
        "id": "j-9QSbViRfvj"
      },
      "execution_count": null,
      "outputs": []
    },
    {
      "cell_type": "code",
      "source": [
        "world_cases"
      ],
      "metadata": {
        "id": "TfdY49cPRmgs"
      },
      "execution_count": null,
      "outputs": []
    },
    {
      "cell_type": "code",
      "source": [
        "days_since_1_22 = np.array([i for i in range(len(dates))]).reshape(-1, 1)\n",
        "world_cases = np.array(world_cases).reshape(-1, 1)\n",
        "total_deaths = np.array(total_deaths).reshape(-1, 1)\n",
        "total_recovered = np.array(total_recovered).reshape(-1, 1)"
      ],
      "metadata": {
        "id": "sMOskkNrSK14"
      },
      "execution_count": null,
      "outputs": []
    },
    {
      "cell_type": "code",
      "source": [
        "days_since_1_22"
      ],
      "metadata": {
        "id": "HEoiPX92SPMA"
      },
      "execution_count": null,
      "outputs": []
    },
    {
      "cell_type": "code",
      "source": [
        "world_cases"
      ],
      "metadata": {
        "id": "_K6IVwr7SURB"
      },
      "execution_count": null,
      "outputs": []
    },
    {
      "cell_type": "code",
      "source": [
        "total_deaths"
      ],
      "metadata": {
        "id": "-JKWKsRISX_j"
      },
      "execution_count": null,
      "outputs": []
    },
    {
      "cell_type": "code",
      "source": [
        "total_recovered"
      ],
      "metadata": {
        "id": "D7b_yylfSc8M"
      },
      "execution_count": null,
      "outputs": []
    },
    {
      "cell_type": "code",
      "source": [
        "days_in_future = 10\n",
        "future_forecast = np.array([i for i in range(len(dates)+days_in_future)]).reshape(-1, 1)\n",
        "adjusted_dates = future_forecast[:-10]"
      ],
      "metadata": {
        "id": "T2SB4QE1TBd9"
      },
      "execution_count": null,
      "outputs": []
    },
    {
      "cell_type": "code",
      "source": [
        "future_forecast"
      ],
      "metadata": {
        "id": "0RiHmlZfTFTw"
      },
      "execution_count": null,
      "outputs": []
    },
    {
      "cell_type": "code",
      "source": [
        "start = '1/22/2020'\n",
        "start_date = datetime.datetime.strptime(start, '%m/%d/%Y')\n",
        "future_forcast_dates = []\n",
        "for i in range(len(future_forcast)):\n",
        "    future_forcast_dates.append((start_date + datetime.timedelta(days=i)).strftime('%m/%d/%Y'))"
      ],
      "metadata": {
        "id": "Tbtv-odbUAAk"
      },
      "execution_count": null,
      "outputs": []
    },
    {
      "cell_type": "code",
      "source": [
        "latest_confirmed = confirmed_cases[dates[-1]]\n",
        "latest_deaths = deaths_reported[dates[-1]]\n",
        "latest_recoveries = recovered_cases[dates[-1]]"
      ],
      "metadata": {
        "id": "Wxmhj4luUm13"
      },
      "execution_count": null,
      "outputs": []
    },
    {
      "cell_type": "code",
      "source": [
        "latest_confirmed"
      ],
      "metadata": {
        "id": "VhlN1dbxUulI"
      },
      "execution_count": null,
      "outputs": []
    },
    {
      "cell_type": "code",
      "source": [
        "latest_deaths"
      ],
      "metadata": {
        "id": "uKMKMiMpU0jc"
      },
      "execution_count": null,
      "outputs": []
    },
    {
      "cell_type": "code",
      "source": [
        "latest_recoveries"
      ],
      "metadata": {
        "id": "_w-x5r37VFYz"
      },
      "execution_count": null,
      "outputs": []
    },
    {
      "cell_type": "code",
      "source": [
        "unique_countries =  list(confirmed_cases['Country/Region'].unique())\n",
        "unique_countries"
      ],
      "metadata": {
        "id": "dXeVx8tUVKFW"
      },
      "execution_count": null,
      "outputs": []
    },
    {
      "cell_type": "code",
      "source": [
        "country_confirmed_cases = []\n",
        "no_cases = []\n",
        "for i in unique_countries:\n",
        "    cases = latest_confirmed[confirmed_cases['Country/Region']==i].sum()\n",
        "    if cases > 0:\n",
        "        country_confirmed_cases.append(cases)\n",
        "    else:\n",
        "        no_cases.append(i)\n",
        "\n",
        "for i in no_cases:\n",
        "    unique_countries.remove(i)\n",
        "\n",
        "unique_countries = [k for k, v in sorted(zip(unique_countries, country_confirmed_cases), key=operator.itemgetter(1), reverse=True)]\n",
        "for i in range(len(unique_countries)):\n",
        "    country_confirmed_cases[i] = latest_confirmed[confirmed_cases['Country/Region']==unique_countries[i]].sum()"
      ],
      "metadata": {
        "id": "qK11f-R7Vx8D"
      },
      "execution_count": null,
      "outputs": []
    },
    {
      "cell_type": "code",
      "source": [
        "print('Confirmed Cases by Countries/Regions:')\n",
        "for i in range(len(unique_countries)):\n",
        "    print(f'{unique_countries[i]}: {country_confirmed_cases[i]} cases')"
      ],
      "metadata": {
        "id": "A36HEcf6V78m"
      },
      "execution_count": null,
      "outputs": []
    },
    {
      "cell_type": "code",
      "source": [
        "unique_provinces =  list(confirmed_cases['Province/State'].unique())\n",
        "# those are countries, which are not provinces/states.\n",
        "outliers = ['United Kingdom', 'Denmark', 'France']\n",
        "for i in outliers:\n",
        "    unique_provinces.remove(i)"
      ],
      "metadata": {
        "id": "X7n9pVrfWA4x"
      },
      "execution_count": null,
      "outputs": []
    },
    {
      "cell_type": "code",
      "source": [
        "province_confirmed_cases = []\n",
        "no_cases = []\n",
        "for i in unique_provinces:\n",
        "    cases = latest_confirmed[confirmed_cases['Province/State']==i].sum()\n",
        "    if cases > 0:\n",
        "        province_confirmed_cases.append(cases)\n",
        "    else:\n",
        "        no_cases.append(i)\n",
        "\n",
        "for i in no_cases:\n",
        "    unique_provinces.remove(i)"
      ],
      "metadata": {
        "id": "1kYgalsIWE7V"
      },
      "execution_count": null,
      "outputs": []
    },
    {
      "cell_type": "code",
      "source": [
        "for i in range(len(unique_provinces)):\n",
        "    print(f'{unique_provinces[i]}: {province_confirmed_cases[i]} cases')"
      ],
      "metadata": {
        "id": "JcbxJh5FWG4q"
      },
      "execution_count": null,
      "outputs": []
    },
    {
      "cell_type": "code",
      "source": [
        "nan_indices = []\n",
        "\n",
        "\n",
        "for i in range(len(unique_provinces)):\n",
        "    if type(unique_provinces[i]) == float:\n",
        "        nan_indices.append(i)\n",
        "\n",
        "unique_provinces = list(unique_provinces)\n",
        "province_confirmed_cases = list(province_confirmed_cases)\n",
        "\n",
        "for i in nan_indices:\n",
        "    unique_provinces.pop(i)\n",
        "    province_confirmed_cases.pop(i)"
      ],
      "metadata": {
        "id": "1otHYdg2WL-I"
      },
      "execution_count": null,
      "outputs": []
    },
    {
      "cell_type": "code",
      "source": [
        "plt.figure(figsize=(32, 32))\n",
        "plt.barh(unique_countries, country_confirmed_cases)\n",
        "plt.title('Number of Covid-19 Confirmed Cases in Countries')\n",
        "plt.xlabel('Number of Covid19 Confirmed Cases')\n",
        "plt.show()"
      ],
      "metadata": {
        "id": "j2fSC54dWRPG"
      },
      "execution_count": null,
      "outputs": []
    },
    {
      "cell_type": "code",
      "source": [
        "china_confirmed = latest_confirmed[confirmed_cases['Country/Region']=='China'].sum()\n",
        "outside_mainland_china_confirmed = np.sum(country_confirmed_cases) - china_confirmed\n",
        "plt.figure(figsize=(16, 9))\n",
        "plt.barh('Mainland China', china_confirmed)\n",
        "plt.barh('Outside Mainland China', outside_mainland_china_confirmed)\n",
        "plt.title('Number of Confirmed Coronavirus Cases')\n",
        "plt.show()"
      ],
      "metadata": {
        "id": "bdlbKSiFWWXv"
      },
      "execution_count": null,
      "outputs": []
    },
    {
      "cell_type": "code",
      "source": [
        "visual_unique_countries = []\n",
        "visual_confirmed_cases = []\n",
        "others = np.sum(country_confirmed_cases[10:])\n",
        "for i in range(len(country_confirmed_cases[:10])):\n",
        "    visual_unique_countries.append(unique_countries[i])\n",
        "    visual_confirmed_cases.append(country_confirmed_cases[i])\n",
        "\n",
        "visual_unique_countries.append('Others')\n",
        "visual_confirmed_cases.append(others)"
      ],
      "metadata": {
        "id": "KVN5D61EWjfT"
      },
      "execution_count": null,
      "outputs": []
    },
    {
      "cell_type": "code",
      "source": [
        "plt.figure(figsize=(32, 18))\n",
        "plt.barh(visual_unique_countries, visual_confirmed_cases)\n",
        "plt.title('Number of Covid-19 Confirmed Cases in Countries/Regions', size=20)\n",
        "plt.show()"
      ],
      "metadata": {
        "id": "Y4jSYKomWoOs"
      },
      "execution_count": null,
      "outputs": []
    },
    {
      "cell_type": "code",
      "source": [
        "kernel = ['poly', 'sigmoid', 'rbf']\n",
        "c = [0.01, 0.1, 1, 10]\n",
        "gamma = [0.01, 0.1, 1]\n",
        "epsilon = [0.01, 0.1, 1]\n",
        "shrinking = [True, False]\n",
        "svm_grid = {'kernel': kernel, 'C': c, 'gamma' : gamma, 'epsilon': epsilon, 'shrinking' : shrinking}\n",
        "\n",
        "svm = SVR()\n",
        "svm_search = RandomizedSearchCV(svm, svm_grid, scoring='neg_mean_squared_error', cv=3, return_train_score=True, n_jobs=-1, n_iter=40, verbose=1)\n",
        "svm_search.fit(X_train_confirmed, y_train_confirmed)"
      ],
      "metadata": {
        "id": "9qz1UB2YXKV-"
      },
      "execution_count": null,
      "outputs": []
    },
    {
      "cell_type": "code",
      "source": [
        "svm_search.best_params_"
      ],
      "metadata": {
        "id": "jtiuKOlCXOkT"
      },
      "execution_count": null,
      "outputs": []
    },
    {
      "cell_type": "code",
      "source": [
        "svm_confirmed = svm_search.best_estimator_\n",
        "svm_pred = svm_confirmed.predict(future_forecast)"
      ],
      "metadata": {
        "id": "-0nMndZhXRws"
      },
      "execution_count": null,
      "outputs": []
    },
    {
      "cell_type": "code",
      "source": [
        "svm_confirmed\n"
      ],
      "metadata": {
        "id": "43IyXq4vXSjj"
      },
      "execution_count": null,
      "outputs": []
    },
    {
      "cell_type": "code",
      "source": [
        "svm_pred"
      ],
      "metadata": {
        "id": "nWQeaep6XYTc"
      },
      "execution_count": null,
      "outputs": []
    },
    {
      "cell_type": "code",
      "source": [
        "svm_test_pred = svm_confirmed.predict(X_test_confirmed)\n",
        "plt.plot(svm_test_pred)\n",
        "plt.plot(y_test_confirmed)\n",
        "print('MAE:', mean_absolute_error(svm_test_pred, y_test_confirmed))\n",
        "print('MSE:',mean_squared_error(svm_test_pred, y_test_confirmed))\n"
      ],
      "metadata": {
        "id": "N3Nb-hzkXhUE"
      },
      "execution_count": null,
      "outputs": []
    },
    {
      "cell_type": "code",
      "source": [
        "plt.figure(figsize=(20, 12))\n",
        "plt.plot(adjusted_dates, world_cases)\n",
        "plt.title('Number of Coronavirus Cases Over Time', size=30)\n",
        "plt.xlabel('Days Since 1/22/2020', size=30)\n",
        "plt.ylabel('Number of Cases', size=30)\n",
        "plt.xticks(size=15)\n",
        "plt.yticks(size=15)\n",
        "plt.show()"
      ],
      "metadata": {
        "id": "UaofwcbVXlip"
      },
      "execution_count": null,
      "outputs": []
    },
    {
      "cell_type": "code",
      "source": [
        "plt.figure(figsize=(20, 12))\n",
        "plt.plot(adjusted_dates, world_cases)\n",
        "plt.plot(future_forcast, svm_pred, linestyle='dashed', color='purple')\n",
        "plt.title('Number of Coronavirus Cases Over Time', size=30)\n",
        "plt.xlabel('Days Since 1/22/2020', size=30)\n",
        "plt.ylabel('Number of Cases', size=30)\n",
        "plt.legend(['Confirmed Cases', 'SVM predictions'])\n",
        "plt.xticks(size=15)\n",
        "plt.yticks(size=15)\n",
        "plt.show()"
      ],
      "metadata": {
        "id": "hXfD70yeXmUH"
      },
      "execution_count": null,
      "outputs": []
    },
    {
      "cell_type": "code",
      "source": [
        "print('SVM future predictions:')\n",
        "set(zip(future_forcast_dates[-10:], svm_pred[-10:]))"
      ],
      "metadata": {
        "id": "FLReItH_XsU7"
      },
      "execution_count": null,
      "outputs": []
    },
    {
      "cell_type": "code",
      "source": [
        "from sklearn.linear_model import LinearRegression\n",
        "linear_model = LinearRegression(normalize=True, fit_intercept=True)\n",
        "linear_model.fit(X_train_confirmed, y_train_confirmed)\n",
        "test_linear_pred = linear_model.predict(X_test_confirmed)\n",
        "linear_pred = linear_model.predict(future_forcast)\n",
        "print('MAE:', mean_absolute_error(test_linear_pred, y_test_confirmed))\n",
        "print('MSE:',mean_squared_error(test_linear_pred, y_test_confirmed))"
      ],
      "metadata": {
        "id": "j6ZOGUQ_X1mQ"
      },
      "execution_count": null,
      "outputs": []
    },
    {
      "cell_type": "code",
      "source": [
        "plt.plot(y_test_confirmed)\n",
        "plt.plot(test_linear_pred)"
      ],
      "metadata": {
        "id": "u2xSvCFsX8Lu"
      },
      "execution_count": null,
      "outputs": []
    },
    {
      "cell_type": "code",
      "source": [
        "plt.figure(figsize=(20, 12))\n",
        "plt.plot(adjusted_dates, world_cases)\n",
        "plt.plot(future_forcast, linear_pred, linestyle='dashed', color='orange')\n",
        "plt.title('Number of Coronavirus Cases Over Time', size=30)\n",
        "plt.xlabel('Days Since 1/22/2020', size=30)\n",
        "plt.ylabel('Number of Cases', size=30)\n",
        "plt.legend(['Confirmed Cases', 'Linear Regression Predictions'])\n",
        "plt.xticks(size=15)\n",
        "plt.yticks(size=15)\n",
        "plt.show()\n"
      ],
      "metadata": {
        "id": "TmQOqnn0YAhE"
      },
      "execution_count": null,
      "outputs": []
    },
    {
      "cell_type": "code",
      "source": [
        "print('Linear regression future predictions:')\n",
        "print(linear_pred[-10:])"
      ],
      "metadata": {
        "id": "U_6x0Qj2YGQy"
      },
      "execution_count": null,
      "outputs": []
    },
    {
      "cell_type": "code",
      "source": [
        "plt.figure(figsize=(20, 12))\n",
        "plt.plot(adjusted_dates, total_deaths, color='red')\n",
        "plt.title('Number of Coronavirus Deaths Over Time', size=30)\n",
        "plt.xlabel('Time', size=30)\n",
        "plt.ylabel('Number of Deaths', size=30)\n",
        "plt.xticks(size=15)\n",
        "plt.yticks(size=15)\n",
        "plt.show()"
      ],
      "metadata": {
        "id": "pCyCCnoTYHGB"
      },
      "execution_count": null,
      "outputs": []
    },
    {
      "cell_type": "code",
      "source": [
        "mean_mortality_rate = np.mean(mortality_rate)\n",
        "plt.figure(figsize=(20, 12))\n",
        "plt.plot(adjusted_dates, mortality_rate, color='orange')\n",
        "plt.axhline(y = mean_mortality_rate,linestyle='--', color='black')\n",
        "plt.title('Mortality Rate of Coronavirus Over Time', size=30)\n",
        "plt.legend(['mortality rate', 'y='+str(mean_mortality_rate)])\n",
        "plt.xlabel('Time', size=30)\n",
        "plt.ylabel('Mortality Rate', size=30)\n",
        "plt.xticks(size=15)\n",
        "plt.yticks(size=15)\n",
        "plt.show()"
      ],
      "metadata": {
        "id": "1SFfvpS5YK5J"
      },
      "execution_count": null,
      "outputs": []
    },
    {
      "cell_type": "code",
      "source": [
        "plt.figure(figsize=(20, 12))\n",
        "plt.plot(adjusted_dates, total_recovered, color='green')\n",
        "plt.title('Number of Coronavirus Cases Recovered Over Time', size=30)\n",
        "plt.xlabel('Time', size=30)\n",
        "plt.ylabel('Number of Cases', size=30)\n",
        "plt.xticks(size=15)\n",
        "plt.yticks(size=15)\n",
        "plt.show()"
      ],
      "metadata": {
        "id": "wns0xzXzYPs9"
      },
      "execution_count": null,
      "outputs": []
    },
    {
      "cell_type": "code",
      "source": [
        "plt.figure(figsize=(20, 12))\n",
        "plt.plot(adjusted_dates, total_deaths, color='r')\n",
        "plt.plot(adjusted_dates, total_recovered, color='green')\n",
        "plt.legend(['deaths', 'recoveries'], loc='best', fontsize=20)\n",
        "plt.title('Number of Coronavirus Cases', size=30)\n",
        "plt.xlabel('Time', size=30)\n",
        "plt.ylabel('Number of Cases', size=30)\n",
        "plt.xticks(size=15)\n",
        "plt.yticks(size=15)\n",
        "plt.show()"
      ],
      "metadata": {
        "id": "3lSazEFTYUcQ"
      },
      "execution_count": null,
      "outputs": []
    },
    {
      "cell_type": "code",
      "source": [
        "plt.figure(figsize=(20, 12))\n",
        "plt.plot(total_recovered, total_deaths)\n",
        "plt.title('Coronavirus Deaths vs Coronavirus Recoveries', size=30)\n",
        "plt.xlabel('Total number of Coronavirus Recoveries', size=30)\n",
        "plt.ylabel('Total number of Coronavirus Deaths', size=30)\n",
        "plt.xticks(size=15)\n",
        "plt.yticks(size=15)\n",
        "plt.show()"
      ],
      "metadata": {
        "id": "jXf6TuXqYec2"
      },
      "execution_count": null,
      "outputs": []
    }
  ]
}