{
  "cells": [
    {
      "cell_type": "markdown",
      "metadata": {
        "id": "M6N8jT1tLx_R"
      },
      "source": [
        "# Logistic regression"
      ]
    },
    {
      "cell_type": "code",
      "execution_count": null,
      "metadata": {
        "id": "Zt11iRFBLx_a"
      },
      "outputs": [],
      "source": [
        "import numpy as np\n",
        "import matplotlib.pyplot as plt"
      ]
    },
    {
      "cell_type": "markdown",
      "metadata": {
        "id": "mi5hbPOcLx_d"
      },
      "source": [
        "## Create a dataset"
      ]
    },
    {
      "cell_type": "markdown",
      "source": [
        "#### Gaussian Multivariate"
      ],
      "metadata": {
        "id": "axk9LqgPyKnA"
      }
    },
    {
      "cell_type": "code",
      "source": [
        "def makeMultivariate(u1, cov1, u2, cov2, cnt):\n",
        "  cnt1 = cnt // 2\n",
        "  cnt2 = cnt - cnt1\n",
        "  X = np.concatenate((np.random.multivariate_normal(u1, cov1, cnt1), np.random.multivariate_normal(u2, cov2, cnt2) ))\n",
        "  y = np.concatenate((np.zeros(cnt1), np.ones(cnt2))).astype('int')\n",
        "  return (X, y)\n",
        "\n",
        "# a\n",
        "# X, y = makeMultivariate([3, 2], [[25, 0],[0, 9]], [10, 5], [[25, 0],[0, 9]], 100)\n",
        "# testX, testY = makeMultivariate([3, 2], [[25, 0],[0, 9]], [10, 5], [[10, 5],[5, 10]], 10000)\n",
        "\n",
        "# b\n",
        "X, y = makeMultivariate([3, 2], [[25, 0],[0, 9]], [10, 5], [[25, 0],[0, 9]], 10000)\n",
        "testX, testy = makeMultivariate([3, 2], [[25, 0],[0, 9]], [10, 5], [[25, 0],[0, 9]], 10000)\n",
        "numOfClasses = 2\n",
        "\n",
        "print(X)\n",
        "print(y)"
      ],
      "metadata": {
        "colab": {
          "base_uri": "https://localhost:8080/"
        },
        "id": "FNuhB1wbZBpG",
        "outputId": "0bb7be1c-91bd-411d-ac47-67215a1121af"
      },
      "execution_count": null,
      "outputs": [
        {
          "output_type": "stream",
          "name": "stdout",
          "text": [
            "[[11.66900759  3.97722915]\n",
            " [-3.91648566  0.02862152]\n",
            " [ 1.54667588  0.46584142]\n",
            " ...\n",
            " [11.16105985  6.56189847]\n",
            " [13.34060505  1.84222445]\n",
            " [12.12060558  5.43927405]]\n",
            "[0 0 0 ... 1 1 1]\n"
          ]
        }
      ]
    },
    {
      "cell_type": "markdown",
      "source": [
        "#### Iris"
      ],
      "metadata": {
        "id": "bI3OU4YhyS28"
      }
    },
    {
      "cell_type": "code",
      "source": [
        "import requests\n",
        "\n",
        "iristext = requests.get(\"https://archive.ics.uci.edu/ml/machine-learning-databases/iris/iris.data\").text.strip()\n",
        "classes = {}\n",
        "def getNum(a):\n",
        "  if a not in classes:\n",
        "      classes[a] = len(classes)\n",
        "  return classes[a]\n",
        "\n",
        "X = []\n",
        "y = []\n",
        "for row in iristext.splitlines():\n",
        "    row = row.split(',')\n",
        "    X.append(list(map(float, row[:4])))\n",
        "    y.append(getNum(row[4]))\n",
        "\n",
        "m = len(X) * 9 // 10\n",
        "X, testX = np.split(np.array(X), [m])\n",
        "y, testy = np.split(np.array(y), [m])\n",
        "numOfClasses = len(classes)\n",
        "\n",
        "print(X)\n",
        "print(y)"
      ],
      "metadata": {
        "colab": {
          "base_uri": "https://localhost:8080/"
        },
        "id": "QiqaV6WNgF-J",
        "outputId": "f509c631-7225-44ee-c0e6-dbf7bd53837b"
      },
      "execution_count": null,
      "outputs": [
        {
          "output_type": "stream",
          "name": "stdout",
          "text": [
            "[[5.1 3.5 1.4 0.2]\n",
            " [4.9 3.  1.4 0.2]\n",
            " [4.7 3.2 1.3 0.2]\n",
            " [4.6 3.1 1.5 0.2]\n",
            " [5.  3.6 1.4 0.2]\n",
            " [5.4 3.9 1.7 0.4]\n",
            " [4.6 3.4 1.4 0.3]\n",
            " [5.  3.4 1.5 0.2]\n",
            " [4.4 2.9 1.4 0.2]\n",
            " [4.9 3.1 1.5 0.1]\n",
            " [5.4 3.7 1.5 0.2]\n",
            " [4.8 3.4 1.6 0.2]\n",
            " [4.8 3.  1.4 0.1]\n",
            " [4.3 3.  1.1 0.1]\n",
            " [5.8 4.  1.2 0.2]\n",
            " [5.7 4.4 1.5 0.4]\n",
            " [5.4 3.9 1.3 0.4]\n",
            " [5.1 3.5 1.4 0.3]\n",
            " [5.7 3.8 1.7 0.3]\n",
            " [5.1 3.8 1.5 0.3]\n",
            " [5.4 3.4 1.7 0.2]\n",
            " [5.1 3.7 1.5 0.4]\n",
            " [4.6 3.6 1.  0.2]\n",
            " [5.1 3.3 1.7 0.5]\n",
            " [4.8 3.4 1.9 0.2]\n",
            " [5.  3.  1.6 0.2]\n",
            " [5.  3.4 1.6 0.4]\n",
            " [5.2 3.5 1.5 0.2]\n",
            " [5.2 3.4 1.4 0.2]\n",
            " [4.7 3.2 1.6 0.2]\n",
            " [4.8 3.1 1.6 0.2]\n",
            " [5.4 3.4 1.5 0.4]\n",
            " [5.2 4.1 1.5 0.1]\n",
            " [5.5 4.2 1.4 0.2]\n",
            " [4.9 3.1 1.5 0.1]\n",
            " [5.  3.2 1.2 0.2]\n",
            " [5.5 3.5 1.3 0.2]\n",
            " [4.9 3.1 1.5 0.1]\n",
            " [4.4 3.  1.3 0.2]\n",
            " [5.1 3.4 1.5 0.2]\n",
            " [5.  3.5 1.3 0.3]\n",
            " [4.5 2.3 1.3 0.3]\n",
            " [4.4 3.2 1.3 0.2]\n",
            " [5.  3.5 1.6 0.6]\n",
            " [5.1 3.8 1.9 0.4]\n",
            " [4.8 3.  1.4 0.3]\n",
            " [5.1 3.8 1.6 0.2]\n",
            " [4.6 3.2 1.4 0.2]\n",
            " [5.3 3.7 1.5 0.2]\n",
            " [5.  3.3 1.4 0.2]\n",
            " [7.  3.2 4.7 1.4]\n",
            " [6.4 3.2 4.5 1.5]\n",
            " [6.9 3.1 4.9 1.5]\n",
            " [5.5 2.3 4.  1.3]\n",
            " [6.5 2.8 4.6 1.5]\n",
            " [5.7 2.8 4.5 1.3]\n",
            " [6.3 3.3 4.7 1.6]\n",
            " [4.9 2.4 3.3 1. ]\n",
            " [6.6 2.9 4.6 1.3]\n",
            " [5.2 2.7 3.9 1.4]\n",
            " [5.  2.  3.5 1. ]\n",
            " [5.9 3.  4.2 1.5]\n",
            " [6.  2.2 4.  1. ]\n",
            " [6.1 2.9 4.7 1.4]\n",
            " [5.6 2.9 3.6 1.3]\n",
            " [6.7 3.1 4.4 1.4]\n",
            " [5.6 3.  4.5 1.5]\n",
            " [5.8 2.7 4.1 1. ]\n",
            " [6.2 2.2 4.5 1.5]\n",
            " [5.6 2.5 3.9 1.1]\n",
            " [5.9 3.2 4.8 1.8]\n",
            " [6.1 2.8 4.  1.3]\n",
            " [6.3 2.5 4.9 1.5]\n",
            " [6.1 2.8 4.7 1.2]\n",
            " [6.4 2.9 4.3 1.3]\n",
            " [6.6 3.  4.4 1.4]\n",
            " [6.8 2.8 4.8 1.4]\n",
            " [6.7 3.  5.  1.7]\n",
            " [6.  2.9 4.5 1.5]\n",
            " [5.7 2.6 3.5 1. ]\n",
            " [5.5 2.4 3.8 1.1]\n",
            " [5.5 2.4 3.7 1. ]\n",
            " [5.8 2.7 3.9 1.2]\n",
            " [6.  2.7 5.1 1.6]\n",
            " [5.4 3.  4.5 1.5]\n",
            " [6.  3.4 4.5 1.6]\n",
            " [6.7 3.1 4.7 1.5]\n",
            " [6.3 2.3 4.4 1.3]\n",
            " [5.6 3.  4.1 1.3]\n",
            " [5.5 2.5 4.  1.3]\n",
            " [5.5 2.6 4.4 1.2]\n",
            " [6.1 3.  4.6 1.4]\n",
            " [5.8 2.6 4.  1.2]\n",
            " [5.  2.3 3.3 1. ]\n",
            " [5.6 2.7 4.2 1.3]\n",
            " [5.7 3.  4.2 1.2]\n",
            " [5.7 2.9 4.2 1.3]\n",
            " [6.2 2.9 4.3 1.3]\n",
            " [5.1 2.5 3.  1.1]\n",
            " [5.7 2.8 4.1 1.3]\n",
            " [6.3 3.3 6.  2.5]\n",
            " [5.8 2.7 5.1 1.9]\n",
            " [7.1 3.  5.9 2.1]\n",
            " [6.3 2.9 5.6 1.8]\n",
            " [6.5 3.  5.8 2.2]\n",
            " [7.6 3.  6.6 2.1]\n",
            " [4.9 2.5 4.5 1.7]\n",
            " [7.3 2.9 6.3 1.8]\n",
            " [6.7 2.5 5.8 1.8]\n",
            " [7.2 3.6 6.1 2.5]\n",
            " [6.5 3.2 5.1 2. ]\n",
            " [6.4 2.7 5.3 1.9]\n",
            " [6.8 3.  5.5 2.1]\n",
            " [5.7 2.5 5.  2. ]\n",
            " [5.8 2.8 5.1 2.4]\n",
            " [6.4 3.2 5.3 2.3]\n",
            " [6.5 3.  5.5 1.8]\n",
            " [7.7 3.8 6.7 2.2]\n",
            " [7.7 2.6 6.9 2.3]\n",
            " [6.  2.2 5.  1.5]\n",
            " [6.9 3.2 5.7 2.3]\n",
            " [5.6 2.8 4.9 2. ]\n",
            " [7.7 2.8 6.7 2. ]\n",
            " [6.3 2.7 4.9 1.8]\n",
            " [6.7 3.3 5.7 2.1]\n",
            " [7.2 3.2 6.  1.8]\n",
            " [6.2 2.8 4.8 1.8]\n",
            " [6.1 3.  4.9 1.8]\n",
            " [6.4 2.8 5.6 2.1]\n",
            " [7.2 3.  5.8 1.6]\n",
            " [7.4 2.8 6.1 1.9]\n",
            " [7.9 3.8 6.4 2. ]\n",
            " [6.4 2.8 5.6 2.2]\n",
            " [6.3 2.8 5.1 1.5]\n",
            " [6.1 2.6 5.6 1.4]]\n",
            "[0 0 0 0 0 0 0 0 0 0 0 0 0 0 0 0 0 0 0 0 0 0 0 0 0 0 0 0 0 0 0 0 0 0 0 0 0\n",
            " 0 0 0 0 0 0 0 0 0 0 0 0 0 1 1 1 1 1 1 1 1 1 1 1 1 1 1 1 1 1 1 1 1 1 1 1 1\n",
            " 1 1 1 1 1 1 1 1 1 1 1 1 1 1 1 1 1 1 1 1 1 1 1 1 1 1 2 2 2 2 2 2 2 2 2 2 2\n",
            " 2 2 2 2 2 2 2 2 2 2 2 2 2 2 2 2 2 2 2 2 2 2 2 2]\n"
          ]
        }
      ]
    },
    {
      "cell_type": "code",
      "execution_count": null,
      "metadata": {
        "colab": {
          "base_uri": "https://localhost:8080/",
          "height": 302
        },
        "id": "_ORyJSI4Lx_i",
        "outputId": "210405ad-a6bf-43ca-de54-27819caafaf2"
      },
      "outputs": [
        {
          "output_type": "execute_result",
          "data": {
            "text/plain": [
              "Text(0, 0.5, '$X_2$')"
            ]
          },
          "metadata": {},
          "execution_count": 4
        },
        {
          "output_type": "display_data",
          "data": {
            "text/plain": [
              "<Figure size 432x288 with 1 Axes>"
            ],
            "image/png": "[encoded data removed]"
          },
          "metadata": {
            "needs_background": "light"
          }
        }
      ],
      "source": [
        "plt.scatter(X[:, 0], X[:, 1], c=y.ravel(), s=40, cmap=plt.cm.Spectral)\n",
        "plt.xlabel(\"$X_1$\")\n",
        "plt.ylabel(\"$X_2$\")\n",
        "# blue dots = 1, red dots = 0"
      ]
    },
    {
      "cell_type": "markdown",
      "metadata": {
        "id": "DAT1MUhbLx_j"
      },
      "source": [
        "## Prepare dataset"
      ]
    },
    {
      "cell_type": "code",
      "execution_count": null,
      "metadata": {
        "id": "Zi6hG0Wz65yc"
      },
      "outputs": [],
      "source": [
        "def makeY(y):\n",
        "    id = np.identity(numOfClasses)\n",
        "    return id[y]\n",
        "\n",
        "def add_intercept(X):\n",
        "    intercept = np.ones( (X.shape[0], 1)  )\n",
        "    return np.concatenate((intercept, X), axis=1)\n",
        "\n",
        "XX = add_intercept(X)\n",
        "testXX = add_intercept(testX)\n",
        "yy = makeY(y)"
      ]
    },
    {
      "cell_type": "markdown",
      "metadata": {
        "id": "Lk9A4Me6Lx_m"
      },
      "source": [
        "## Gradient descent"
      ]
    },
    {
      "cell_type": "code",
      "source": [
        "import random\n",
        "\n",
        "num_iter = 100000\n",
        "cost_list = []\n",
        "m = yy.size\n",
        "alpha = 0.01\n",
        "numOfFeatures = XX.shape[1]\n",
        "theta = np.zeros((numOfFeatures, numOfClasses))\n",
        "\n",
        "def sigmoid(z):\n",
        "    return 1 / (1 + np.exp(-z))\n",
        "\n",
        "def calc_h(X, theta):\n",
        "    z = np.matmul(X, theta)\n",
        "    h = sigmoid(z)\n",
        "    return h\n",
        "\n",
        "\n",
        "for i in range(num_iter):\n",
        "    Xsgd = XX\n",
        "    ysgd = yy\n",
        "\n",
        "    # sgd = random.randint(0, m - 1)\n",
        "    # Xsgd = XX[sgd:sgd+1]\n",
        "    # ysgd = yy[sgd:sgd+1]\n",
        "\n",
        "    h = calc_h(Xsgd, theta)\n",
        "    gradient = np.dot(Xsgd.T, (h - ysgd)) / m\n",
        "    theta -= alpha * gradient\n",
        "\n",
        "\n",
        "print('theta: {}'.format(theta))"
      ],
      "metadata": {
        "colab": {
          "base_uri": "https://localhost:8080/"
        },
        "id": "7CK1yKYdynR3",
        "outputId": "0d2e3365-bb88-4c19-f082-37e57ee7afae"
      },
      "execution_count": null,
      "outputs": [
        {
          "output_type": "stream",
          "name": "stdout",
          "text": [
            "theta: [[ 0.10425857 -0.02904128 -0.15227293]\n",
            " [ 0.14923216 -0.11080295 -0.36464877]\n",
            " [ 0.56048036 -0.35709178 -0.45843362]\n",
            " [-0.91900017  0.30077376  0.58799261]\n",
            " [-0.40524916  0.07912432  0.33649489]]\n"
          ]
        }
      ]
    },
    {
      "cell_type": "markdown",
      "metadata": {
        "id": "q5OgDlpILx_o"
      },
      "source": [
        "## Making predictions"
      ]
    },
    {
      "cell_type": "code",
      "execution_count": null,
      "metadata": {
        "colab": {
          "base_uri": "https://localhost:8080/"
        },
        "id": "bVzN3-45Lx_o",
        "outputId": "1efd6d6c-e2b6-4462-9472-6ce9d3f7a986"
      },
      "outputs": [
        {
          "output_type": "stream",
          "name": "stdout",
          "text": [
            "Training Accuracy: 0.9037037037037037\n",
            "Testing Accuracy: 0.4666666666666667\n"
          ]
        }
      ],
      "source": [
        "preds = np.argmax(calc_h(XX, theta), 1)\n",
        "print('Training Accuracy: {}'.format((preds == y).mean()))\n",
        "\n",
        "preds_testing = np.argmax(calc_h(testXX, theta), 1)\n",
        "print('Testing Accuracy: {}'.format((preds_testing == testy).mean()))"
      ]
    }
  ],
  "metadata": {
    "kernelspec": {
      "display_name": "Python 3",
      "language": "python",
      "name": "python3"
    },
    "language_info": {
      "codemirror_mode": {
        "name": "ipython",
        "version": 3
      },
      "file_extension": ".py",
      "mimetype": "text/x-python",
      "name": "python",
      "nbconvert_exporter": "python",
      "pygments_lexer": "ipython3",
      "version": "3.6.8"
    },
    "colab": {
      "provenance": [],
      "toc_visible": true
    }
  },
  "nbformat": 4,
  "nbformat_minor": 0
}