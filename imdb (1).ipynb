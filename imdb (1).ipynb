{
  "cells": [
    {
      "cell_type": "code",
      "execution_count": null,
      "metadata": {
        "colab": {
          "base_uri": "https://localhost:8080/"
        },
        "id": "kGqBSbMyk4GQ",
        "outputId": "486719b5-89d4-4b8a-fb59-c4c5b7be610b"
      },
      "outputs": [
        {
          "name": "stdout",
          "output_type": "stream",
          "text": [
            "Downloading data from https://storage.googleapis.com/tensorflow/tf-keras-datasets/imdb.npz\n",
            "17464789/17464789 [==============================] - 1s 0us/step\n"
          ]
        }
      ],
      "source": [
        "from keras.datasets import imdb\n",
        "from keras.preprocessing import sequence\n",
        "from tensorflow.keras.preprocessing.sequence import pad_sequences\n",
        "import keras\n",
        "import tensorflow as tf\n",
        "import os\n",
        "import numpy as np\n",
        "\n",
        "VOCAB_SIZE = 88584\n",
        "\n",
        "MAXLEN = 250\n",
        "BATCH_SIZE = 64\n",
        "\n",
        "(train_data, train_labels), (test_data, test_labels) = imdb.load_data(num_words = VOCAB_SIZE)"
      ]
    },
    {
      "cell_type": "code",
      "execution_count": null,
      "metadata": {
        "id": "S3CBcwb7lFhD"
      },
      "outputs": [],
      "source": [
        "train_data=pad_sequences(train_data,MAXLEN)\n",
        "test_data=pad_sequences(test_data,MAXLEN)"
      ]
    },
    {
      "cell_type": "code",
      "execution_count": null,
      "metadata": {
        "colab": {
          "base_uri": "https://localhost:8080/"
        },
        "id": "81QrbuVolHC2",
        "outputId": "3e99d12e-70eb-408e-bf87-503123374871"
      },
      "outputs": [
        {
          "data": {
            "text/plain": [
              "250"
            ]
          },
          "execution_count": 3,
          "metadata": {},
          "output_type": "execute_result"
        }
      ],
      "source": [
        "len(train_data[1])\n"
      ]
    },
    {
      "cell_type": "code",
      "execution_count": null,
      "metadata": {
        "id": "mjKh2atQlIFi"
      },
      "outputs": [],
      "source": [
        "model=tf.keras.Sequential([\n",
        "    tf.keras.layers.Embedding(VOCAB_SIZE,32),\n",
        "    tf.keras.layers.LSTM(32),\n",
        "    tf.keras.layers.Dense(1,activation='sigmoid')\n",
        "])"
      ]
    },
    {
      "cell_type": "code",
      "execution_count": null,
      "metadata": {
        "colab": {
          "base_uri": "https://localhost:8080/"
        },
        "id": "5hUqFmP2lJdf",
        "outputId": "0e12edf9-c6a9-411e-a82d-5352b038b2e3"
      },
      "outputs": [
        {
          "name": "stdout",
          "output_type": "stream",
          "text": [
            "Model: \"sequential\"\n",
            "_________________________________________________________________\n",
            " Layer (type)                Output Shape              Param #   \n",
            "=================================================================\n",
            " embedding (Embedding)       (None, None, 32)          2834688   \n",
            "                                                                 \n",
            " lstm (LSTM)                 (None, 32)                8320      \n",
            "                                                                 \n",
            " dense (Dense)               (None, 1)                 33        \n",
            "                                                                 \n",
            "=================================================================\n",
            "Total params: 2,843,041\n",
            "Trainable params: 2,843,041\n",
            "Non-trainable params: 0\n",
            "_________________________________________________________________\n"
          ]
        }
      ],
      "source": [
        "model.summary()"
      ]
    },
    {
      "cell_type": "code",
      "execution_count": null,
      "metadata": {
        "colab": {
          "base_uri": "https://localhost:8080/"
        },
        "id": "5Cluj9WJlLzz",
        "outputId": "c3836c78-b5b8-4898-abbc-f34170b55d05"
      },
      "outputs": [
        {
          "name": "stdout",
          "output_type": "stream",
          "text": [
            "Epoch 1/10\n",
            "625/625 [==============================] - 97s 148ms/step - loss: 0.4607 - accuracy: 0.7695 - val_loss: 0.3270 - val_accuracy: 0.8630\n",
            "Epoch 2/10\n",
            "625/625 [==============================] - 79s 126ms/step - loss: 0.2623 - accuracy: 0.9011 - val_loss: 0.3408 - val_accuracy: 0.8736\n",
            "Epoch 3/10\n",
            "625/625 [==============================] - 77s 124ms/step - loss: 0.2038 - accuracy: 0.9243 - val_loss: 0.3284 - val_accuracy: 0.8794\n",
            "Epoch 4/10\n",
            "625/625 [==============================] - 77s 123ms/step - loss: 0.1640 - accuracy: 0.9420 - val_loss: 0.2958 - val_accuracy: 0.8842\n",
            "Epoch 5/10\n",
            "625/625 [==============================] - 87s 139ms/step - loss: 0.1350 - accuracy: 0.9531 - val_loss: 0.4751 - val_accuracy: 0.8692\n",
            "Epoch 6/10\n",
            "625/625 [==============================] - 85s 135ms/step - loss: 0.1137 - accuracy: 0.9621 - val_loss: 0.3550 - val_accuracy: 0.8658\n",
            "Epoch 7/10\n",
            "625/625 [==============================] - 85s 136ms/step - loss: 0.0956 - accuracy: 0.9689 - val_loss: 0.4279 - val_accuracy: 0.8574\n",
            "Epoch 8/10\n",
            "625/625 [==============================] - 83s 132ms/step - loss: 0.0829 - accuracy: 0.9734 - val_loss: 0.3950 - val_accuracy: 0.8682\n",
            "Epoch 9/10\n",
            "625/625 [==============================] - 79s 126ms/step - loss: 0.0689 - accuracy: 0.9776 - val_loss: 0.3617 - val_accuracy: 0.8688\n",
            "Epoch 10/10\n",
            "625/625 [==============================] - 83s 133ms/step - loss: 0.0590 - accuracy: 0.9825 - val_loss: 0.4227 - val_accuracy: 0.8732\n"
          ]
        }
      ],
      "source": [
        "model.compile(loss=\"binary_crossentropy\",optimizer=\"rmsprop\",metrics=['accuracy'])\n",
        "history=model.fit(train_data,train_labels,epochs=10,validation_split=0.2)"
      ]
    },
    {
      "cell_type": "code",
      "execution_count": null,
      "metadata": {
        "id": "XZvo9TWZlNEM"
      },
      "outputs": [],
      "source": [
        "model.save(\"xyz.h5\")"
      ]
    },
    {
      "cell_type": "code",
      "execution_count": null,
      "metadata": {
        "id": "Dfr6OlwWlRsr"
      },
      "outputs": [],
      "source": [
        "new_model = tf.keras.models.load_model('xyz.h5')"
      ]
    },
    {
      "cell_type": "code",
      "execution_count": null,
      "metadata": {
        "colab": {
          "base_uri": "https://localhost:8080/"
        },
        "id": "3KGabsQClT9m",
        "outputId": "afa31c9c-c3ea-4a2e-933e-5a6904270ce5"
      },
      "outputs": [
        {
          "name": "stdout",
          "output_type": "stream",
          "text": [
            "782/782 [==============================] - 26s 33ms/step - loss: 0.4891 - accuracy: 0.8576\n",
            "[0.48912206292152405, 0.8575599789619446]\n"
          ]
        }
      ],
      "source": [
        "results=new_model.evaluate(test_data,test_labels)\n",
        "print(results)"
      ]
    },
    {
      "cell_type": "code",
      "execution_count": null,
      "metadata": {
        "id": "iUktWHpXlfaP"
      },
      "outputs": [],
      "source": []
    }
  ],
  "metadata": {
    "colab": {
      "provenance": []
    },
    "kernelspec": {
      "display_name": "Python 3 (ipykernel)",
      "language": "python",
      "name": "python3"
    },
    "language_info": {
      "codemirror_mode": {
        "name": "ipython",
        "version": 3
      },
      "file_extension": ".py",
      "mimetype": "text/x-python",
      "name": "python",
      "nbconvert_exporter": "python",
      "pygments_lexer": "ipython3",
      "version": "3.9.7"
    }
  },
  "nbformat": 4,
  "nbformat_minor": 0
}