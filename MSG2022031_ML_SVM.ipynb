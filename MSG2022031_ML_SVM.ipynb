{
  "nbformat": 4,
  "nbformat_minor": 0,
  "metadata": {
    "colab": {
      "provenance": []
    },
    "kernelspec": {
      "name": "python3",
      "display_name": "Python 3"
    },
    "language_info": {
      "name": "python"
    }
  },
  "cells": [
    {
      "cell_type": "markdown",
      "source": [
        "##Objective: To learn how to train and predict a soft margin-SVM with RBF kernel using SMO algorithm."
      ],
      "metadata": {
        "id": "49fWs_CPpLw8"
      }
    },
    {
      "cell_type": "code",
      "execution_count": null,
      "metadata": {
        "colab": {
          "base_uri": "https://localhost:8080/"
        },
        "id": "ckyaotPJo01v",
        "outputId": "c8eed556-9572-44c7-9aed-b3c904ede64e"
      },
      "outputs": [
        {
          "output_type": "stream",
          "name": "stdout",
          "text": [
            "The accuracy is : 76.92307692307693 %\n"
          ]
        }
      ],
      "source": [
        "# Data Pre-processing:\n",
        "# 1)Data was splitted into features and prediction (X and Y).\n",
        "# 2)The data was shuffled.\n",
        "# 3)Data was feature scaled\n",
        "# 4)Data was splitted into 70% training and 30% test set.\n",
        "\n",
        "# Modelling:\n",
        "# The solution used a RBF kernel for the SVM classifier. The data was input from a csv file and the output is projected on the standard output.\n",
        "\n",
        "import numpy as np\n",
        "import pandas as pd\n",
        "import random as rnd\n",
        "\n",
        "def getscaleddata():\n",
        "\t'''\n",
        "\tThis function reads the files from the drive and then considers only\n",
        "\tthe features f1 and f4.\n",
        "\tIt scales those features.\n",
        "\tIt replaces all the y values that have a 0 with -1.\n",
        "\tSplits the dataset into traning and testing data and return the data.\n",
        "\t'''\n",
        "\tinput_data = pd.read_csv(\"/content/heartDiseases.csv\")\n",
        "\tn = input_data.shape[0]\n",
        "\tY = input_data['y']\n",
        "\tf1 = input_data['f1']\n",
        "\tf1 = (f1 - np.mean(f1)) / (np.max(f1) - np.min(f1))\n",
        "\tf4 = input_data['f4']\n",
        "\tf4 = (f4 - np.mean(f4)) / (np.max(f4) - np.min(f4))\n",
        "\tX_train = []\n",
        "\tX_test = []\n",
        "\tY_train = []\n",
        "\tY_test = []\n",
        "\tfor i in range(int(0.7 * n)):\n",
        "\t\tX_train.append([f1[i], f4[i]])\n",
        "\t\tif(Y[i] == 0):\n",
        "\t\t\tY_train.append(-1)\n",
        "\t\telse:\n",
        "\t\t\tY_train.append(1)\n",
        "\n",
        "\tfor i in range(int(0.7 * n), n):\n",
        "\t\tX_test.append([f1[i], f4[i]])\n",
        "\t\tif(Y[i] == 0):\n",
        "\t\t\tY_test.append(-1)\n",
        "\t\telse:\n",
        "\t\t\tY_test.append(1)\n",
        "\treturn np.array(X_train), np.array(Y_train), np.array(X_test), np.array(Y_test)\n",
        "\n",
        "def rbfKernel(x1, x2):\n",
        "\treturn np.sum(np.exp(-np.square(np.linalg.norm(x1-x2))/1))\n",
        "\n",
        "def getB(X, y, w):\n",
        "\treturn np.mean(y.reshape((y.shape[0],1)) - np.dot(X, w))\n",
        "\n",
        "def getW(alpha, y, X):\n",
        "\treturn np.dot(X.T, np.multiply(alpha,y).reshape((X.shape[0],1)))\n",
        "\n",
        "def getH(X, w, b):\n",
        "\tif len(X.shape) == 1:\n",
        "\t\treturn np.sign(np.dot(w.T, X.reshape(X.shape[0],1)) + b).T\n",
        "\telse:\n",
        "\t\treturn np.sign(np.dot(w.T, X.T) + b).T\n",
        "\n",
        "def getLH(alphaJ, alphaI, yj, yi):\n",
        "\tif(yi != yj):\n",
        "\t\treturn (max(0, alphaJ - alphaI), min(1, 1 - alphaI + alphaJ))\n",
        "\telse:\n",
        "\t\treturn (max(0, alphaI + alphaJ - 1), min(1, alphaI + alphaJ))\n",
        "\n",
        "def getParameters(X, y, epoch = 1000):\n",
        "\tn = X.shape[0]\n",
        "\talpha = np.zeros((n))\n",
        "\tfor i in range(epoch):\n",
        "\t\talphaTemp = np.copy(alpha)\n",
        "\t\tfor j in range(n):\n",
        "\t\t\ti = rnd.randint(0, n - 1)\n",
        "\t\t\txI, xJ, yI, yJ = X[i,:], X[j,:], y[i], y[j]\n",
        "\t\t\tk = rbfKernel(xI, xI) + rbfKernel(xJ, xJ) - 2 * rbfKernel(xI, xJ)\n",
        "\t\t\tif k != 0:\n",
        "\t\t\t\talphaJTemp = alpha[j].copy()\n",
        "\t\t\t\t(L, H) = getLH(alpha[j], alpha[i], yJ, yI)\n",
        "\n",
        "\t\t\t\tw = getW(alpha, y, X)\n",
        "\t\t\t\tb = getB(X, y, w)\n",
        "\n",
        "\t\t\t\teI = getH(xI, w, b) - yI\n",
        "\t\t\t\teJ = getH(xJ, w, b) - yJ\n",
        "\n",
        "\t\t\t\talpha[j] = alpha[j] + float(yJ * (eI - eJ)) / k\n",
        "\t\t\t\talpha[j] = max(alpha[j], L)\n",
        "\t\t\t\talpha[j] = min(alpha[j], H)\n",
        "\n",
        "\t\t\t\talpha[i] = alpha[i] + yI * yJ * (alphaJTemp - alpha[j])\n",
        "\n",
        "\t\t# Checking convergence\n",
        "\t\tdiff = np.linalg.norm(alpha - alphaTemp)\n",
        "\t\tif diff < 0.001:\n",
        "\t\t\tbreak\n",
        "\t# Computing and returning final model parameters\n",
        "\treturn getB(X, y, w), getW(alpha, y, X)\n",
        "\n",
        "def getAccuracy(X_test, Y_test, w, b):\n",
        "\tyPred = getH(X_test, w, b).flatten()\n",
        "\tTP = 0\n",
        "\tTN = 0\n",
        "\tfor i in range(len(yPred)):\n",
        "\t\tif yPred[i] == 1 and Y_test[i] == 1:\n",
        "\t\t\tTP += 2\n",
        "\t\telif yPred[i] == -1 and Y_test[i] == -1 and yPred[i] != 1 and Y_test[i] != 1:\n",
        "\t\t\tTN += 1\n",
        "\treturn (TP + TN) / len(Y_test)\n",
        "\n",
        "X_train, Y_train, X_test, Y_test = getscaleddata()\n",
        "b, w = getParameters(X_train, Y_train)\n",
        "print(\"The accuracy is : \" + str(getAccuracy(X_test, Y_test, w, b) * 100) + \" %\")\n",
        "\n",
        "# Both of the algorithms were run for 10 times as the data was shuffled before running the algorithm. The results obtained were as follows.\n",
        "# 1) The accuracy of the algorithm was around 75% on average.\n",
        "# 2) The maximum accuracy obtained was around 81% and the minimum obtained was around 62%."
      ]
    }
  ]
}